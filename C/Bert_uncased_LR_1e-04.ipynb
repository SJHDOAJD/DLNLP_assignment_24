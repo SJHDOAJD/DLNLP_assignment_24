{
 "cells": [
  {
   "cell_type": "code",
   "execution_count": 1,
   "metadata": {},
   "outputs": [],
   "source": [
    "import numpy as np \n",
    "import pandas as pd\n",
    "import torch\n",
    "import torch.nn as nn\n",
    "import re\n",
    "from tqdm import tqdm\n",
    "import seaborn as sns\n",
    "import matplotlib.pyplot as plt\n",
    "from torch.utils.data import DataLoader\n",
    "import warnings\n",
    "warnings.filterwarnings(\"ignore\")\n",
    "from sklearn.model_selection import train_test_split\n",
    "import gc\n",
    "from datetime import datetime\n",
    "from sklearn.metrics import confusion_matrix\n",
    "from sklearn.metrics import accuracy_score, precision_score, recall_score, f1_score\n",
    "\n",
    "from transformers import AutoModelForSequenceClassification, AutoTokenizer\n",
    "from torch.optim import AdamW"
   ]
  },
  {
   "cell_type": "code",
   "execution_count": 2,
   "metadata": {},
   "outputs": [],
   "source": [
    "# Load Data\n",
    "test_df = pd.read_csv('twitter_validation.csv', header=None)\n",
    "train_df = pd.read_csv('twitter_training.csv', header=None)\n",
    "test_df.reset_index(drop=True, inplace=True)\n",
    "train_df.reset_index(drop=True, inplace=True)\n",
    "df1 = pd.concat([train_df, test_df], axis=0)\n",
    "df1.drop([0], axis=1, inplace=True)\n",
    "df1.columns = ['platform', 'sentiment', 'text']\n",
    "df1.drop(['platform'], axis=1, inplace=True)\n",
    "df1.sentiment = df1.sentiment.map({\"Neutral\": 0, \"Irrelevant\": 0, \"Positive\": 1, \"Negative\": 2})\n",
    "df1.dropna(inplace=True)"
   ]
  },
  {
   "cell_type": "code",
   "execution_count": 3,
   "metadata": {},
   "outputs": [],
   "source": [
    "total_samples = 7500\n",
    "counts = df1['sentiment'].value_counts(normalize=True)\n",
    "samples_per_class = (counts * total_samples).round().astype(int)  # Ensure integer sample sizes\n",
    "# 对每个类别进行抽样\n",
    "sampled_dfs = []\n",
    "for sentiment, samples in samples_per_class.items():  # Use items() instead of iteritems()\n",
    "    sampled_dfs.append(\n",
    "        df1[df1['sentiment'] == sentiment].sample(n=samples, random_state=42)\n",
    "    )\n",
    "df = pd.concat(sampled_dfs).reset_index(drop=True)\n",
    "df = df.sample(frac=1)"
   ]
  },
  {
   "cell_type": "code",
   "execution_count": 4,
   "metadata": {},
   "outputs": [
    {
     "data": {
      "text/html": [
       "<div>\n",
       "<style scoped>\n",
       "    .dataframe tbody tr th:only-of-type {\n",
       "        vertical-align: middle;\n",
       "    }\n",
       "\n",
       "    .dataframe tbody tr th {\n",
       "        vertical-align: top;\n",
       "    }\n",
       "\n",
       "    .dataframe thead th {\n",
       "        text-align: right;\n",
       "    }\n",
       "</style>\n",
       "<table border=\"1\" class=\"dataframe\">\n",
       "  <thead>\n",
       "    <tr style=\"text-align: right;\">\n",
       "      <th></th>\n",
       "      <th>sentiment</th>\n",
       "      <th>text</th>\n",
       "    </tr>\n",
       "  </thead>\n",
       "  <tbody>\n",
       "    <tr>\n",
       "      <th>4894</th>\n",
       "      <td>2</td>\n",
       "      <td>sell  fifa coins fuck this game</td>\n",
       "    </tr>\n",
       "    <tr>\n",
       "      <th>2368</th>\n",
       "      <td>0</td>\n",
       "      <td>here is how backward compatibility will work o...</td>\n",
       "    </tr>\n",
       "    <tr>\n",
       "      <th>6210</th>\n",
       "      <td>1</td>\n",
       "      <td>time for your pm dose of awesome animals voepa...</td>\n",
       "    </tr>\n",
       "    <tr>\n",
       "      <th>2362</th>\n",
       "      <td>0</td>\n",
       "      <td>if this is real then  besincreased valhalla lo...</td>\n",
       "    </tr>\n",
       "    <tr>\n",
       "      <th>6705</th>\n",
       "      <td>1</td>\n",
       "      <td>new xbox home for ui status update in preview ...</td>\n",
       "    </tr>\n",
       "  </tbody>\n",
       "</table>\n",
       "</div>"
      ],
      "text/plain": [
       "      sentiment                                               text\n",
       "4894          2                    sell  fifa coins fuck this game\n",
       "2368          0  here is how backward compatibility will work o...\n",
       "6210          1  time for your pm dose of awesome animals voepa...\n",
       "2362          0  if this is real then  besincreased valhalla lo...\n",
       "6705          1  new xbox home for ui status update in preview ..."
      ]
     },
     "execution_count": 4,
     "metadata": {},
     "output_type": "execute_result"
    }
   ],
   "source": [
    "def data_preprocessing(text):\n",
    "    text = text.lower()\n",
    "    text = re.sub(r'https?://www\\.\\S+\\.cm', '', text)\n",
    "    text = re.sub(r'[^a-zA-Z|\\s]', '', text)\n",
    "    text = re.sub(r'\\*+', 'swear', text)\n",
    "    text = re.sub('<.*?>', '', text) # Remove HTML from text\n",
    "    text = re.sub(r'(.)\\1{3,}', r'\\1', text)\n",
    "    return text\n",
    "\n",
    "df['text'] = df['text'].astype(str).apply(lambda x:data_preprocessing(x))\n",
    "df.head()"
   ]
  },
  {
   "cell_type": "code",
   "execution_count": 5,
   "metadata": {},
   "outputs": [],
   "source": [
    "# BERT Tokenizer\n",
    "tokenizer = AutoTokenizer.from_pretrained(\"bert-base-uncased\")\n",
    "\n",
    "# Dataset\n",
    "class BERTDataset:\n",
    "    def __init__(self, texts, sentiments, tokenizer, max_len):\n",
    "        self.texts = texts\n",
    "        self.sentiments = sentiments\n",
    "        self.tokenizer = tokenizer\n",
    "        self.max_len = max_len\n",
    "\n",
    "    def __len__(self):\n",
    "        return len(self.texts)\n",
    "\n",
    "    def __getitem__(self, item):\n",
    "        text = str(self.texts[item])\n",
    "        sentiment = self.sentiments[item]\n",
    "\n",
    "        encoding = self.tokenizer.encode_plus(\n",
    "            text,\n",
    "            add_special_tokens=True,\n",
    "            max_length=self.max_len,\n",
    "            return_token_type_ids=False,\n",
    "            padding='max_length',\n",
    "            return_attention_mask=True,\n",
    "            return_tensors='pt',\n",
    "            truncation=True,\n",
    "        )\n",
    "\n",
    "        return {\n",
    "            'text': encoding['input_ids'].flatten(),\n",
    "            'attention_mask': encoding['attention_mask'].flatten(),\n",
    "            'sentiment': torch.tensor(sentiment, dtype=torch.long)\n",
    "        }"
   ]
  },
  {
   "cell_type": "code",
   "execution_count": 6,
   "metadata": {},
   "outputs": [],
   "source": [
    "# Split Data\n",
    "y = df.sentiment.values\n",
    "train_df, temp_df = train_test_split(df, test_size=0.3, random_state=42, stratify=y)\n",
    "\n",
    "y_temp = temp_df.sentiment.values\n",
    "valid_df, test_df = train_test_split(temp_df, test_size=0.5, random_state=42, stratify=y_temp)\n"
   ]
  },
  {
   "cell_type": "code",
   "execution_count": 7,
   "metadata": {},
   "outputs": [],
   "source": [
    "MAX_LEN = max([len(x.split()) for x in df['text']])\n",
    "BATCH_SIZE = 16\n",
    "\n",
    "# DataLoader\n",
    "def create_data_loader(df, tokenizer, max_len, batch_size):\n",
    "    ds = BERTDataset(\n",
    "        texts=df.text.to_numpy(),\n",
    "        sentiments=df.sentiment.to_numpy(),\n",
    "        tokenizer=tokenizer,\n",
    "        max_len=max_len\n",
    "    )\n",
    "\n",
    "    return DataLoader(\n",
    "        ds,\n",
    "        batch_size=batch_size,\n",
    "        shuffle=True\n",
    "    )\n",
    "\n",
    "train_loader = create_data_loader(train_df, tokenizer, MAX_LEN, BATCH_SIZE)\n",
    "valid_loader = create_data_loader(valid_df, tokenizer, MAX_LEN, BATCH_SIZE)\n",
    "test_loader = create_data_loader(test_df, tokenizer, MAX_LEN, BATCH_SIZE)"
   ]
  },
  {
   "cell_type": "code",
   "execution_count": 8,
   "metadata": {},
   "outputs": [],
   "source": [
    "def train_one_epoch(model, train_loader, optimizer, device):\n",
    "    # set init values \n",
    "    epoch_loss = 0.0\n",
    "    epoch_accuracy = 0.0\n",
    "    ###################\n",
    "    # train the model #\n",
    "    ###################\n",
    "    model.train()\n",
    "    for data in tqdm(train_loader, desc=\"Training\"):\n",
    "        input_ids = data[\"text\"].to(device)\n",
    "        attention_mask = data[\"attention_mask\"].to(device)\n",
    "        targets = data[\"sentiment\"].to(device)\n",
    "        optimizer.zero_grad()\n",
    "        output = model(input_ids=input_ids,attention_mask=attention_mask,labels=targets)\n",
    "        loss = output.loss\n",
    "        logits = output.logits\n",
    "        preds = torch.argmax(logits, dim=1)\n",
    "        correct_predictions = torch.sum(preds == targets)\n",
    "        accuracy = correct_predictions.double() / targets.size(0)\n",
    "\n",
    "        loss.backward()\n",
    "        optimizer.step()\n",
    "        # update training loss and accuracy\n",
    "        epoch_loss += loss.item()\n",
    "        epoch_accuracy += accuracy.item()\n",
    "    return epoch_loss / len(train_loader), epoch_accuracy / len(train_loader)\n",
    "    \n",
    "def validate_one_epoch(model, valid_loader, device):\n",
    "    # set init values\n",
    "    valid_loss = 0.0\n",
    "    valid_accuracy = 0.0\n",
    "    ######################\n",
    "    # validate the model #\n",
    "    ######################\n",
    "    model.eval()\n",
    "    for data in tqdm(valid_loader,desc=\"Validation\"):\n",
    "        input_ids = data['text'].to(device)\n",
    "        attention_mask = data['attention_mask'].to(device)\n",
    "        targets = data['sentiment'].to(device)\n",
    "        with torch.no_grad():\n",
    "            output = model(input_ids=input_ids, attention_mask=attention_mask, labels=targets)\n",
    "            loss = output.loss\n",
    "            logits = output.logits\n",
    "            preds = torch.argmax(logits, dim=1)\n",
    "            correct_predictions = torch.sum(preds == targets)\n",
    "            accuracy = correct_predictions.double() / targets.size(0)\n",
    "            # update average validation loss and accuracy\n",
    "            valid_loss += loss.item()\n",
    "            valid_accuracy += accuracy.item()\n",
    "    return valid_loss / len(valid_loader), valid_accuracy / len(valid_loader)\n",
    "\n",
    "def evaluate(model, test_loader, device):\n",
    "    # set init values\n",
    "    test_loss = 0.0\n",
    "    test_accuracy = 0.0\n",
    "    all_preds = []\n",
    "    all_targets = []\n",
    "    ######################\n",
    "    # evaluate the model #\n",
    "    ######################\n",
    "    model.eval()\n",
    "    for data in tqdm(test_loader,desc=\"Testing\"):\n",
    "        input_ids = data['text'].to(device)\n",
    "        attention_mask = data['attention_mask'].to(device)\n",
    "        targets = data['sentiment'].to(device)\n",
    "        with torch.no_grad():\n",
    "            output = model(input_ids=input_ids, attention_mask=attention_mask, labels=targets)\n",
    "            loss = output.loss\n",
    "            logits = output.logits\n",
    "            preds = torch.argmax(logits, dim=1)\n",
    "            correct_predictions = torch.sum(preds == targets)\n",
    "            accuracy = correct_predictions.double() / targets.size(0)\n",
    "            # update average test loss and accuracy\n",
    "            test_loss += loss.item()\n",
    "            test_accuracy += accuracy.item()\n",
    "            # get prediction and true values\n",
    "            all_preds.extend(preds.cpu().numpy())\n",
    "            all_targets.extend(targets.cpu().numpy())\n",
    "    # calculate average losses\n",
    "    test_loss /= len(test_loader)\n",
    "    test_accuracy /= len(test_loader)\n",
    "    return test_loss, test_accuracy, np.array(all_preds), np.array(all_targets)"
   ]
  },
  {
   "cell_type": "code",
   "execution_count": 9,
   "metadata": {},
   "outputs": [],
   "source": [
    "def fit(\n",
    "        model, epochs, device, optimizer, train_loader, valid_loader=None\n",
    "    ):\n",
    "        # set init values\n",
    "        valid_loss_min = np.Inf\n",
    "        train_losses = []\n",
    "        valid_losses = []\n",
    "        train_accs = []\n",
    "        valid_accs = []\n",
    "        # set the logic about epoch\n",
    "        for epoch in range(1, epochs + 1):\n",
    "            # clear useless data\n",
    "            gc.collect()\n",
    "\n",
    "            print(f\"{'='*50}\")\n",
    "            print(f\"EPOCH {epoch} - TRAINING...\")\n",
    "            train_loss, train_acc = train_one_epoch(model,\n",
    "                train_loader, optimizer, device\n",
    "            )\n",
    "            print(\n",
    "                f\"\\n\\t[TRAIN] EPOCH {epoch} - LOSS: {train_loss}, ACCURACY: {train_acc}\\n\"\n",
    "            )\n",
    "            train_losses.append(train_loss)\n",
    "            train_accs.append(train_acc)\n",
    "            gc.collect()\n",
    "\n",
    "            if valid_loader is not None:\n",
    "                gc.collect()\n",
    "            \n",
    "                print(f\"EPOCH {epoch} - VALIDATING...\")\n",
    "                valid_loss, valid_acc = validate_one_epoch(model,\n",
    "                    valid_loader, device\n",
    "                )\n",
    "                print(f\"\\t[VALID] LOSS: {valid_loss}, ACCURACY: {valid_acc}\\n\")\n",
    "                valid_losses.append(valid_loss)\n",
    "                valid_accs.append(valid_acc)\n",
    "                gc.collect()\n",
    "\n",
    "                # show if validation loss has decreased\n",
    "                if valid_loss <= valid_loss_min and epoch != 1:\n",
    "                    print(\n",
    "                        \"Validation loss decreased ({:.4f} --> {:.4f}).\".format(\n",
    "                            valid_loss_min, valid_loss\n",
    "                        )\n",
    "                    )\n",
    "                valid_loss_min = valid_loss\n",
    "\n",
    "        return {\n",
    "            \"train_loss\": train_losses,\n",
    "            \"valid_loss\": valid_losses,\n",
    "            \"train_acc\": train_accs,\n",
    "            \"valid_acc\": valid_accs,\n",
    "        }"
   ]
  },
  {
   "cell_type": "code",
   "execution_count": 10,
   "metadata": {},
   "outputs": [
    {
     "name": "stderr",
     "output_type": "stream",
     "text": [
      "Some weights of BertForSequenceClassification were not initialized from the model checkpoint at bert-base-uncased and are newly initialized: ['classifier.bias', 'classifier.weight']\n",
      "You should probably TRAIN this model on a down-stream task to be able to use it for predictions and inference.\n"
     ]
    },
    {
     "name": "stdout",
     "output_type": "stream",
     "text": [
      "INITIALIZING TRAINING \n",
      "Start Time: 2024-04-03 13:06:18.361164\n",
      "==================================================\n",
      "EPOCH 1 - TRAINING...\n"
     ]
    },
    {
     "name": "stderr",
     "output_type": "stream",
     "text": [
      "Training: 100%|██████████| 329/329 [40:59<00:00,  7.48s/it]\n"
     ]
    },
    {
     "name": "stdout",
     "output_type": "stream",
     "text": [
      "\n",
      "\t[TRAIN] EPOCH 1 - LOSS: 0.9461410092727753, ACCURACY: 0.5448328267477204\n",
      "\n",
      "EPOCH 1 - VALIDATING...\n"
     ]
    },
    {
     "name": "stderr",
     "output_type": "stream",
     "text": [
      "Validation: 100%|██████████| 71/71 [02:54<00:00,  2.46s/it]\n"
     ]
    },
    {
     "name": "stdout",
     "output_type": "stream",
     "text": [
      "\t[VALID] LOSS: 0.9193816134627436, ACCURACY: 0.569894366197183\n",
      "\n",
      "==================================================\n",
      "EPOCH 2 - TRAINING...\n"
     ]
    },
    {
     "name": "stderr",
     "output_type": "stream",
     "text": [
      "Training: 100%|██████████| 329/329 [40:38<00:00,  7.41s/it]\n"
     ]
    },
    {
     "name": "stdout",
     "output_type": "stream",
     "text": [
      "\n",
      "\t[TRAIN] EPOCH 2 - LOSS: 0.7427976183072412, ACCURACY: 0.684080547112462\n",
      "\n",
      "EPOCH 2 - VALIDATING...\n"
     ]
    },
    {
     "name": "stderr",
     "output_type": "stream",
     "text": [
      "Validation: 100%|██████████| 71/71 [02:51<00:00,  2.41s/it]\n"
     ]
    },
    {
     "name": "stdout",
     "output_type": "stream",
     "text": [
      "\t[VALID] LOSS: 0.8024691523800433, ACCURACY: 0.6304577464788733\n",
      "\n",
      "Validation loss decreased (0.9194 --> 0.8025).\n",
      "==================================================\n",
      "EPOCH 3 - TRAINING...\n"
     ]
    },
    {
     "name": "stderr",
     "output_type": "stream",
     "text": [
      "Training: 100%|██████████| 329/329 [40:29<00:00,  7.38s/it]\n"
     ]
    },
    {
     "name": "stdout",
     "output_type": "stream",
     "text": [
      "\n",
      "\t[TRAIN] EPOCH 3 - LOSS: 0.5084441526139036, ACCURACY: 0.8081306990881459\n",
      "\n",
      "EPOCH 3 - VALIDATING...\n"
     ]
    },
    {
     "name": "stderr",
     "output_type": "stream",
     "text": [
      "Validation: 100%|██████████| 71/71 [02:51<00:00,  2.41s/it]\n"
     ]
    },
    {
     "name": "stdout",
     "output_type": "stream",
     "text": [
      "\t[VALID] LOSS: 0.7883121791020246, ACCURACY: 0.6626760563380282\n",
      "\n",
      "Validation loss decreased (0.8025 --> 0.7883).\n",
      "==================================================\n",
      "EPOCH 4 - TRAINING...\n"
     ]
    },
    {
     "name": "stderr",
     "output_type": "stream",
     "text": [
      "Training: 100%|██████████| 329/329 [40:34<00:00,  7.40s/it]\n"
     ]
    },
    {
     "name": "stdout",
     "output_type": "stream",
     "text": [
      "\n",
      "\t[TRAIN] EPOCH 4 - LOSS: 0.3299547543460475, ACCURACY: 0.8808890577507599\n",
      "\n",
      "EPOCH 4 - VALIDATING...\n"
     ]
    },
    {
     "name": "stderr",
     "output_type": "stream",
     "text": [
      "Validation: 100%|██████████| 71/71 [02:50<00:00,  2.40s/it]\n"
     ]
    },
    {
     "name": "stdout",
     "output_type": "stream",
     "text": [
      "\t[VALID] LOSS: 0.9936004178205007, ACCURACY: 0.680105633802817\n",
      "\n",
      "==================================================\n",
      "EPOCH 5 - TRAINING...\n"
     ]
    },
    {
     "name": "stderr",
     "output_type": "stream",
     "text": [
      "Training: 100%|██████████| 329/329 [40:27<00:00,  7.38s/it]\n"
     ]
    },
    {
     "name": "stdout",
     "output_type": "stream",
     "text": [
      "\n",
      "\t[TRAIN] EPOCH 5 - LOSS: 0.24402561087138658, ACCURACY: 0.9129939209726444\n",
      "\n",
      "EPOCH 5 - VALIDATING...\n"
     ]
    },
    {
     "name": "stderr",
     "output_type": "stream",
     "text": [
      "Validation: 100%|██████████| 71/71 [02:51<00:00,  2.41s/it]\n"
     ]
    },
    {
     "name": "stdout",
     "output_type": "stream",
     "text": [
      "\t[VALID] LOSS: 1.1489178215114164, ACCURACY: 0.6845070422535211\n",
      "\n",
      "==================================================\n",
      "EPOCH 6 - TRAINING...\n"
     ]
    },
    {
     "name": "stderr",
     "output_type": "stream",
     "text": [
      "Training: 100%|██████████| 329/329 [40:23<00:00,  7.37s/it]\n"
     ]
    },
    {
     "name": "stdout",
     "output_type": "stream",
     "text": [
      "\n",
      "\t[TRAIN] EPOCH 6 - LOSS: 0.17142472714808485, ACCURACY: 0.9450987841945289\n",
      "\n",
      "EPOCH 6 - VALIDATING...\n"
     ]
    },
    {
     "name": "stderr",
     "output_type": "stream",
     "text": [
      "Validation: 100%|██████████| 71/71 [02:51<00:00,  2.41s/it]\n"
     ]
    },
    {
     "name": "stdout",
     "output_type": "stream",
     "text": [
      "\t[VALID] LOSS: 1.1587010135113354, ACCURACY: 0.6934859154929577\n",
      "\n",
      "==================================================\n",
      "EPOCH 7 - TRAINING...\n"
     ]
    },
    {
     "name": "stderr",
     "output_type": "stream",
     "text": [
      "Training: 100%|██████████| 329/329 [40:27<00:00,  7.38s/it]\n"
     ]
    },
    {
     "name": "stdout",
     "output_type": "stream",
     "text": [
      "\n",
      "\t[TRAIN] EPOCH 7 - LOSS: 0.13343161630718814, ACCURACY: 0.9568768996960486\n",
      "\n",
      "EPOCH 7 - VALIDATING...\n"
     ]
    },
    {
     "name": "stderr",
     "output_type": "stream",
     "text": [
      "Validation: 100%|██████████| 71/71 [02:50<00:00,  2.41s/it]\n"
     ]
    },
    {
     "name": "stdout",
     "output_type": "stream",
     "text": [
      "\t[VALID] LOSS: 1.1653066665773661, ACCURACY: 0.6855633802816901\n",
      "\n",
      "==================================================\n",
      "EPOCH 8 - TRAINING...\n"
     ]
    },
    {
     "name": "stderr",
     "output_type": "stream",
     "text": [
      "Training: 100%|██████████| 329/329 [40:29<00:00,  7.38s/it]\n"
     ]
    },
    {
     "name": "stdout",
     "output_type": "stream",
     "text": [
      "\n",
      "\t[TRAIN] EPOCH 8 - LOSS: 0.12897467567432547, ACCURACY: 0.9557370820668692\n",
      "\n",
      "EPOCH 8 - VALIDATING...\n"
     ]
    },
    {
     "name": "stderr",
     "output_type": "stream",
     "text": [
      "Validation: 100%|██████████| 71/71 [02:51<00:00,  2.41s/it]\n"
     ]
    },
    {
     "name": "stdout",
     "output_type": "stream",
     "text": [
      "\t[VALID] LOSS: 1.1214094715533962, ACCURACY: 0.7121478873239436\n",
      "\n",
      "Validation loss decreased (1.1653 --> 1.1214).\n",
      "==================================================\n",
      "EPOCH 9 - TRAINING...\n"
     ]
    },
    {
     "name": "stderr",
     "output_type": "stream",
     "text": [
      "Training: 100%|██████████| 329/329 [40:37<00:00,  7.41s/it]\n"
     ]
    },
    {
     "name": "stdout",
     "output_type": "stream",
     "text": [
      "\n",
      "\t[TRAIN] EPOCH 9 - LOSS: 0.11319285508678337, ACCURACY: 0.9618161094224924\n",
      "\n",
      "EPOCH 9 - VALIDATING...\n"
     ]
    },
    {
     "name": "stderr",
     "output_type": "stream",
     "text": [
      "Validation: 100%|██████████| 71/71 [02:51<00:00,  2.41s/it]\n"
     ]
    },
    {
     "name": "stdout",
     "output_type": "stream",
     "text": [
      "\t[VALID] LOSS: 1.262649860390475, ACCURACY: 0.6933098591549296\n",
      "\n",
      "==================================================\n",
      "EPOCH 10 - TRAINING...\n"
     ]
    },
    {
     "name": "stderr",
     "output_type": "stream",
     "text": [
      "Training: 100%|██████████| 329/329 [40:36<00:00,  7.41s/it]\n"
     ]
    },
    {
     "name": "stdout",
     "output_type": "stream",
     "text": [
      "\n",
      "\t[TRAIN] EPOCH 10 - LOSS: 0.1245303759468142, ACCURACY: 0.9578267477203647\n",
      "\n",
      "EPOCH 10 - VALIDATING...\n"
     ]
    },
    {
     "name": "stderr",
     "output_type": "stream",
     "text": [
      "Validation: 100%|██████████| 71/71 [02:50<00:00,  2.40s/it]"
     ]
    },
    {
     "name": "stdout",
     "output_type": "stream",
     "text": [
      "\t[VALID] LOSS: 1.1949684200152544, ACCURACY: 0.6864436619718309\n",
      "\n",
      "Validation loss decreased (1.2626 --> 1.1950).\n"
     ]
    },
    {
     "name": "stderr",
     "output_type": "stream",
     "text": [
      "\n"
     ]
    }
   ],
   "source": [
    "# BERT Model\n",
    "model = AutoModelForSequenceClassification.from_pretrained(\"bert-base-uncased\", num_labels=3)\n",
    "device = torch.device(\"cpu\")\n",
    "model.to(device)\n",
    "optimizer = AdamW(model.parameters(), lr=1e-4)\n",
    "\n",
    "# record start time\n",
    "print(f\"INITIALIZING TRAINING \")\n",
    "start_time = datetime.now()\n",
    "print(f\"Start Time: {start_time}\")\n",
    "# train model\n",
    "logs = fit(\n",
    "    model=model,\n",
    "    epochs=10,\n",
    "    device=device,\n",
    "    optimizer=optimizer,\n",
    "    train_loader=train_loader,\n",
    "    valid_loader=valid_loader,\n",
    ")"
   ]
  },
  {
   "cell_type": "code",
   "execution_count": 11,
   "metadata": {},
   "outputs": [
    {
     "data": {
      "image/png": "[encoded data removed]",
      "text/plain": [
       "<Figure size 640x480 with 2 Axes>"
      ]
     },
     "metadata": {},
     "output_type": "display_data"
    }
   ],
   "source": [
    "fig, ax = plt.subplots(2,1)\n",
    "ax[0].plot(logs['train_loss'], color='b', label=\"Training Loss\")\n",
    "ax[0].plot(logs['valid_loss'], color='r', label=\"Validation Loss\")\n",
    "legend = ax[0].legend(loc='best', shadow=True)\n",
    "\n",
    "ax[1].plot(logs['train_acc'], color='b', label=\"Training Accuracy\")\n",
    "ax[1].plot(logs['valid_acc'], color='r',label=\"Validation Accuracy\")\n",
    "legend = ax[1].legend(loc='best', shadow=True)"
   ]
  },
  {
   "cell_type": "code",
   "execution_count": 12,
   "metadata": {},
   "outputs": [
    {
     "name": "stderr",
     "output_type": "stream",
     "text": [
      "Testing: 100%|██████████| 71/71 [02:51<00:00,  2.41s/it]"
     ]
    },
    {
     "name": "stdout",
     "output_type": "stream",
     "text": [
      "\t[TEST] LOSS: 1.3189436067158067, ACCURACY: 0.6580985915492958\n",
      "\n"
     ]
    },
    {
     "name": "stderr",
     "output_type": "stream",
     "text": [
      "\n"
     ]
    }
   ],
   "source": [
    "test_loss, test_acc, all_preds, all_targets = evaluate(model, test_loader, device)\n",
    "print(f\"\\t[TEST] LOSS: {test_loss}, ACCURACY: {test_acc}\\n\")"
   ]
  },
  {
   "cell_type": "code",
   "execution_count": 13,
   "metadata": {},
   "outputs": [
    {
     "data": {
      "image/png": "[encoded data removed]",
      "text/plain": [
       "<Figure size 1000x1000 with 2 Axes>"
      ]
     },
     "metadata": {},
     "output_type": "display_data"
    }
   ],
   "source": [
    "# Calculate confusion matrix\n",
    "conf_mat = confusion_matrix(all_targets, all_preds)\n",
    "fig, ax = plt.subplots(figsize=(10, 10))\n",
    "# plot it\n",
    "sns.heatmap(conf_mat, annot=True, fmt='d', ax=ax, cmap=\"Blues\")\n",
    "ax.set_xlabel('Predicted labels')\n",
    "ax.set_ylabel('True labels')\n",
    "ax.set_title('Confusion Matrix')\n",
    "plt.show()"
   ]
  },
  {
   "cell_type": "code",
   "execution_count": 14,
   "metadata": {},
   "outputs": [
    {
     "name": "stdout",
     "output_type": "stream",
     "text": [
      "0.6586666666666666\n"
     ]
    }
   ],
   "source": [
    "# make performance metrics for each classes\n",
    "accuracy = accuracy_score(all_targets, all_preds)\n",
    "print(accuracy)"
   ]
  },
  {
   "cell_type": "code",
   "execution_count": 15,
   "metadata": {},
   "outputs": [
    {
     "data": {
      "image/png": "[encoded data removed]",
      "text/plain": [
       "<Figure size 1400x600 with 1 Axes>"
      ]
     },
     "metadata": {},
     "output_type": "display_data"
    }
   ],
   "source": [
    "# define the values in normal, micro and macro state\n",
    "num_classes = 3\n",
    "\n",
    "precision = precision_score(all_targets, all_preds, average=None)\n",
    "precision_micro = precision_score(all_targets, all_preds, average='micro')\n",
    "precision_macro = precision_score(all_targets, all_preds, average='macro')\n",
    "\n",
    "recall = recall_score(all_targets, all_preds, average=None)\n",
    "recall_micro = recall_score(all_targets, all_preds, average='micro')\n",
    "recall_macro = recall_score(all_targets, all_preds, average='macro')\n",
    "\n",
    "f1 = f1_score(all_targets, all_preds, average=None)\n",
    "f1_micro = f1_score(all_targets, all_preds, average='micro')\n",
    "f1_macro= f1_score(all_targets, all_preds, average='macro')\n",
    "\n",
    "precision = np.append(precision, [precision_micro, precision_macro])\n",
    "recall = np.append(recall, [recall_micro, recall_macro])\n",
    "f1 = np.append(f1, [f1_micro, f1_macro])\n",
    "classes = list(range(num_classes)) + ['Micro', 'Macro']\n",
    "\n",
    "x = np.arange(len(classes))\n",
    "width = 0.2\n",
    "\n",
    "fig1, ax1 = plt.subplots(figsize=(14, 6))\n",
    "rects1 = ax1.bar(x - width, precision, width, label='Precision')\n",
    "rects2 = ax1.bar(x, recall, width, label='Recall')\n",
    "rects3 = ax1.bar(x + width, f1, width, label='F1')\n",
    "\n",
    "ax1.set_xlabel('Classes')\n",
    "ax1.set_ylabel('Score')\n",
    "ax1.set_title('Performance Metrics (Sentiment Analysis)')\n",
    "ax1.set_xticks(x)\n",
    "ax1.set_xticklabels(classes)\n",
    "ax1.set_ylim(0, 1.1)\n",
    "ax1.legend(loc='upper right')\n",
    "ax1.grid(True)\n",
    "plt.show()"
   ]
  }
 ],
 "metadata": {
  "kernelspec": {
   "display_name": "amls2",
   "language": "python",
   "name": "python3"
  },
  "language_info": {
   "codemirror_mode": {
    "name": "ipython",
    "version": 3
   },
   "file_extension": ".py",
   "mimetype": "text/x-python",
   "name": "python",
   "nbconvert_exporter": "python",
   "pygments_lexer": "ipython3",
   "version": "3.11.8"
  }
 },
 "nbformat": 4,
 "nbformat_minor": 2
}
